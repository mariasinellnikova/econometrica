{
 "cells": [
  {
   "cell_type": "code",
   "execution_count": 40,
   "id": "f6dad82d-ec7b-4658-8ca0-71c3424f4cb5",
   "metadata": {},
   "outputs": [],
   "source": [
    "import io\n",
    "import re\n",
    "import scipy\n",
    "import numpy as np\n",
    "import pandas as pd\n",
    "import seaborn as sns\n",
    "import scipy.stats as stats\n",
    "import statsmodels.formula.api as smf\n",
    "import matplotlib.pyplot as plt\n",
    "from statsmodels.iolib.summary2 import summary_params\n",
    "from statsmodels.iolib.summary2 import summary_col"
   ]
  },
  {
   "cell_type": "code",
   "execution_count": 79,
   "id": "fd5076a0-f2b7-43f5-ba3e-8d5115fb6c93",
   "metadata": {},
   "outputs": [
    {
     "data": {
      "text/html": [
       "<div>\n",
       "<style scoped>\n",
       "    .dataframe tbody tr th:only-of-type {\n",
       "        vertical-align: middle;\n",
       "    }\n",
       "\n",
       "    .dataframe tbody tr th {\n",
       "        vertical-align: top;\n",
       "    }\n",
       "\n",
       "    .dataframe thead th {\n",
       "        text-align: right;\n",
       "    }\n",
       "</style>\n",
       "<table border=\"1\" class=\"dataframe\">\n",
       "  <thead>\n",
       "    <tr style=\"text-align: right;\">\n",
       "      <th></th>\n",
       "      <th>age</th>\n",
       "      <th>sex</th>\n",
       "      <th>bmi</th>\n",
       "      <th>children</th>\n",
       "      <th>smoker</th>\n",
       "      <th>region</th>\n",
       "      <th>charges</th>\n",
       "    </tr>\n",
       "  </thead>\n",
       "  <tbody>\n",
       "    <tr>\n",
       "      <th>0</th>\n",
       "      <td>19</td>\n",
       "      <td>female</td>\n",
       "      <td>27.900</td>\n",
       "      <td>0</td>\n",
       "      <td>yes</td>\n",
       "      <td>southwest</td>\n",
       "      <td>16884.92400</td>\n",
       "    </tr>\n",
       "    <tr>\n",
       "      <th>1</th>\n",
       "      <td>18</td>\n",
       "      <td>male</td>\n",
       "      <td>33.770</td>\n",
       "      <td>1</td>\n",
       "      <td>no</td>\n",
       "      <td>southeast</td>\n",
       "      <td>1725.55230</td>\n",
       "    </tr>\n",
       "    <tr>\n",
       "      <th>2</th>\n",
       "      <td>28</td>\n",
       "      <td>male</td>\n",
       "      <td>33.000</td>\n",
       "      <td>3</td>\n",
       "      <td>no</td>\n",
       "      <td>southeast</td>\n",
       "      <td>4449.46200</td>\n",
       "    </tr>\n",
       "    <tr>\n",
       "      <th>3</th>\n",
       "      <td>33</td>\n",
       "      <td>male</td>\n",
       "      <td>22.705</td>\n",
       "      <td>0</td>\n",
       "      <td>no</td>\n",
       "      <td>northwest</td>\n",
       "      <td>21984.47061</td>\n",
       "    </tr>\n",
       "    <tr>\n",
       "      <th>4</th>\n",
       "      <td>32</td>\n",
       "      <td>male</td>\n",
       "      <td>28.880</td>\n",
       "      <td>0</td>\n",
       "      <td>no</td>\n",
       "      <td>northwest</td>\n",
       "      <td>3866.85520</td>\n",
       "    </tr>\n",
       "    <tr>\n",
       "      <th>...</th>\n",
       "      <td>...</td>\n",
       "      <td>...</td>\n",
       "      <td>...</td>\n",
       "      <td>...</td>\n",
       "      <td>...</td>\n",
       "      <td>...</td>\n",
       "      <td>...</td>\n",
       "    </tr>\n",
       "    <tr>\n",
       "      <th>1333</th>\n",
       "      <td>50</td>\n",
       "      <td>male</td>\n",
       "      <td>30.970</td>\n",
       "      <td>3</td>\n",
       "      <td>no</td>\n",
       "      <td>northwest</td>\n",
       "      <td>10600.54830</td>\n",
       "    </tr>\n",
       "    <tr>\n",
       "      <th>1334</th>\n",
       "      <td>18</td>\n",
       "      <td>female</td>\n",
       "      <td>31.920</td>\n",
       "      <td>0</td>\n",
       "      <td>no</td>\n",
       "      <td>northeast</td>\n",
       "      <td>2205.98080</td>\n",
       "    </tr>\n",
       "    <tr>\n",
       "      <th>1335</th>\n",
       "      <td>18</td>\n",
       "      <td>female</td>\n",
       "      <td>36.850</td>\n",
       "      <td>0</td>\n",
       "      <td>no</td>\n",
       "      <td>southeast</td>\n",
       "      <td>1629.83350</td>\n",
       "    </tr>\n",
       "    <tr>\n",
       "      <th>1336</th>\n",
       "      <td>21</td>\n",
       "      <td>female</td>\n",
       "      <td>25.800</td>\n",
       "      <td>0</td>\n",
       "      <td>no</td>\n",
       "      <td>southwest</td>\n",
       "      <td>2007.94500</td>\n",
       "    </tr>\n",
       "    <tr>\n",
       "      <th>1337</th>\n",
       "      <td>61</td>\n",
       "      <td>female</td>\n",
       "      <td>29.070</td>\n",
       "      <td>0</td>\n",
       "      <td>yes</td>\n",
       "      <td>northwest</td>\n",
       "      <td>29141.36030</td>\n",
       "    </tr>\n",
       "  </tbody>\n",
       "</table>\n",
       "<p>1338 rows × 7 columns</p>\n",
       "</div>"
      ],
      "text/plain": [
       "      age     sex     bmi  children smoker     region      charges\n",
       "0      19  female  27.900         0    yes  southwest  16884.92400\n",
       "1      18    male  33.770         1     no  southeast   1725.55230\n",
       "2      28    male  33.000         3     no  southeast   4449.46200\n",
       "3      33    male  22.705         0     no  northwest  21984.47061\n",
       "4      32    male  28.880         0     no  northwest   3866.85520\n",
       "...   ...     ...     ...       ...    ...        ...          ...\n",
       "1333   50    male  30.970         3     no  northwest  10600.54830\n",
       "1334   18  female  31.920         0     no  northeast   2205.98080\n",
       "1335   18  female  36.850         0     no  southeast   1629.83350\n",
       "1336   21  female  25.800         0     no  southwest   2007.94500\n",
       "1337   61  female  29.070         0    yes  northwest  29141.36030\n",
       "\n",
       "[1338 rows x 7 columns]"
      ]
     },
     "execution_count": 79,
     "metadata": {},
     "output_type": "execute_result"
    }
   ],
   "source": [
    "df = pd.read_csv('https://raw.githubusercontent.com/mariasinellnikova/econometrica/main/insurance.csv')\n",
    "df"
   ]
  },
  {
   "cell_type": "code",
   "execution_count": 42,
   "id": "51a0410a-5037-4213-b585-eeae441869df",
   "metadata": {},
   "outputs": [],
   "source": [
    "df = df.replace(to_replace=['Male','Female'], value=[1,0])"
   ]
  },
  {
   "cell_type": "code",
   "execution_count": 43,
   "id": "8e33b8d7",
   "metadata": {},
   "outputs": [],
   "source": [
    "df = df.replace(to_replace=['yes','no'], value=[1,0])"
   ]
  },
  {
   "cell_type": "markdown",
   "id": "57398426-3170-47ca-9f34-80e8ea9fbdc2",
   "metadata": {},
   "source": [
    "$$\n",
    "charges = \\beta_0 + \\beta_1 * sex + \\beta_2 * age\n",
    "$$"
   ]
  },
  {
   "cell_type": "code",
   "execution_count": 44,
   "id": "f093a92f-1916-4d99-b325-65c312dc5bba",
   "metadata": {},
   "outputs": [
    {
     "data": {
      "text/plain": [
       "Intercept      2343.625\n",
       "sex[T.male]    1538.831\n",
       "age             258.865\n",
       "dtype: float64"
      ]
     },
     "execution_count": 44,
     "metadata": {},
     "output_type": "execute_result"
    }
   ],
   "source": [
    "model = smf.ols(formula = 'charges~sex+age', data=df).fit()\n",
    "model.params.round(3)"
   ]
  },
  {
   "cell_type": "markdown",
   "id": "d20bbfae-28f3-4a64-98d8-d20378a91548",
   "metadata": {},
   "source": [
    "$$\n",
    "charges = 2343.625 + 1538.831 * sex + 258.865 * age\n",
    "$$"
   ]
  },
  {
   "cell_type": "markdown",
   "id": "b5e3f15a-8138-4392-8b5e-f70540d219e9",
   "metadata": {},
   "source": [
    "1. При увеличении возраста на 1 единицу charges увеличивается на 258.865, при прочих равных\n",
    "2. Если работающий человек - мужчина, то заработная плата увеличивается на 1538.831"
   ]
  },
  {
   "cell_type": "code",
   "execution_count": 45,
   "id": "55d754b0-a2af-474c-9019-8385a1610d53",
   "metadata": {},
   "outputs": [
    {
     "data": {
      "text/plain": [
       "<AxesSubplot:xlabel='age', ylabel='charges'>"
      ]
     },
     "execution_count": 45,
     "metadata": {},
     "output_type": "execute_result"
    },
    {
     "data": {
      "image/png": "[encoded data removed]",
      "text/plain": [
       "<Figure size 640x480 with 1 Axes>"
      ]
     },
     "metadata": {},
     "output_type": "display_data"
    }
   ],
   "source": [
    "sns.scatterplot(data=df, y = 'charges', x = 'age')"
   ]
  },
  {
   "cell_type": "code",
   "execution_count": 46,
   "id": "67b74256-10cb-4d6e-8e86-7bb20b3d92da",
   "metadata": {},
   "outputs": [
    {
     "data": {
      "text/plain": [
       "<AxesSubplot:xlabel='age', ylabel='charges'>"
      ]
     },
     "execution_count": 46,
     "metadata": {},
     "output_type": "execute_result"
    },
    {
     "data": {
      "image/png": "[encoded data removed]",
      "text/plain": [
       "<Figure size 640x480 with 1 Axes>"
      ]
     },
     "metadata": {},
     "output_type": "display_data"
    }
   ],
   "source": [
    "sns.regplot(data=df, y = 'charges', x = 'age', ci=None, order = 2, line_kws ={\"color\":\"green\"})"
   ]
  },
  {
   "cell_type": "markdown",
   "id": "13a5a786-f7b6-4b0f-84f6-ba55145ad1fa",
   "metadata": {},
   "source": [
    "#### На основе полученной модели можно сделать вывод что, чем больше возраст человек, тем выше его charges"
   ]
  },
  {
   "cell_type": "code",
   "execution_count": 47,
   "id": "1293e1af-3934-4c57-81d9-cb425a380582",
   "metadata": {},
   "outputs": [
    {
     "data": {
      "text/html": [
       "<div>\n",
       "<style scoped>\n",
       "    .dataframe tbody tr th:only-of-type {\n",
       "        vertical-align: middle;\n",
       "    }\n",
       "\n",
       "    .dataframe tbody tr th {\n",
       "        vertical-align: top;\n",
       "    }\n",
       "\n",
       "    .dataframe thead th {\n",
       "        text-align: right;\n",
       "    }\n",
       "</style>\n",
       "<table border=\"1\" class=\"dataframe\">\n",
       "  <thead>\n",
       "    <tr style=\"text-align: right;\">\n",
       "      <th></th>\n",
       "      <th>age</th>\n",
       "      <th>sex</th>\n",
       "      <th>bmi</th>\n",
       "      <th>children</th>\n",
       "      <th>smoker</th>\n",
       "      <th>region</th>\n",
       "      <th>charges</th>\n",
       "      <th>age^2</th>\n",
       "    </tr>\n",
       "  </thead>\n",
       "  <tbody>\n",
       "    <tr>\n",
       "      <th>0</th>\n",
       "      <td>19</td>\n",
       "      <td>female</td>\n",
       "      <td>27.900</td>\n",
       "      <td>0</td>\n",
       "      <td>1</td>\n",
       "      <td>southwest</td>\n",
       "      <td>16884.92400</td>\n",
       "      <td>361</td>\n",
       "    </tr>\n",
       "    <tr>\n",
       "      <th>1</th>\n",
       "      <td>18</td>\n",
       "      <td>male</td>\n",
       "      <td>33.770</td>\n",
       "      <td>1</td>\n",
       "      <td>0</td>\n",
       "      <td>southeast</td>\n",
       "      <td>1725.55230</td>\n",
       "      <td>324</td>\n",
       "    </tr>\n",
       "    <tr>\n",
       "      <th>2</th>\n",
       "      <td>28</td>\n",
       "      <td>male</td>\n",
       "      <td>33.000</td>\n",
       "      <td>3</td>\n",
       "      <td>0</td>\n",
       "      <td>southeast</td>\n",
       "      <td>4449.46200</td>\n",
       "      <td>784</td>\n",
       "    </tr>\n",
       "    <tr>\n",
       "      <th>3</th>\n",
       "      <td>33</td>\n",
       "      <td>male</td>\n",
       "      <td>22.705</td>\n",
       "      <td>0</td>\n",
       "      <td>0</td>\n",
       "      <td>northwest</td>\n",
       "      <td>21984.47061</td>\n",
       "      <td>1089</td>\n",
       "    </tr>\n",
       "    <tr>\n",
       "      <th>4</th>\n",
       "      <td>32</td>\n",
       "      <td>male</td>\n",
       "      <td>28.880</td>\n",
       "      <td>0</td>\n",
       "      <td>0</td>\n",
       "      <td>northwest</td>\n",
       "      <td>3866.85520</td>\n",
       "      <td>1024</td>\n",
       "    </tr>\n",
       "    <tr>\n",
       "      <th>...</th>\n",
       "      <td>...</td>\n",
       "      <td>...</td>\n",
       "      <td>...</td>\n",
       "      <td>...</td>\n",
       "      <td>...</td>\n",
       "      <td>...</td>\n",
       "      <td>...</td>\n",
       "      <td>...</td>\n",
       "    </tr>\n",
       "    <tr>\n",
       "      <th>1333</th>\n",
       "      <td>50</td>\n",
       "      <td>male</td>\n",
       "      <td>30.970</td>\n",
       "      <td>3</td>\n",
       "      <td>0</td>\n",
       "      <td>northwest</td>\n",
       "      <td>10600.54830</td>\n",
       "      <td>2500</td>\n",
       "    </tr>\n",
       "    <tr>\n",
       "      <th>1334</th>\n",
       "      <td>18</td>\n",
       "      <td>female</td>\n",
       "      <td>31.920</td>\n",
       "      <td>0</td>\n",
       "      <td>0</td>\n",
       "      <td>northeast</td>\n",
       "      <td>2205.98080</td>\n",
       "      <td>324</td>\n",
       "    </tr>\n",
       "    <tr>\n",
       "      <th>1335</th>\n",
       "      <td>18</td>\n",
       "      <td>female</td>\n",
       "      <td>36.850</td>\n",
       "      <td>0</td>\n",
       "      <td>0</td>\n",
       "      <td>southeast</td>\n",
       "      <td>1629.83350</td>\n",
       "      <td>324</td>\n",
       "    </tr>\n",
       "    <tr>\n",
       "      <th>1336</th>\n",
       "      <td>21</td>\n",
       "      <td>female</td>\n",
       "      <td>25.800</td>\n",
       "      <td>0</td>\n",
       "      <td>0</td>\n",
       "      <td>southwest</td>\n",
       "      <td>2007.94500</td>\n",
       "      <td>441</td>\n",
       "    </tr>\n",
       "    <tr>\n",
       "      <th>1337</th>\n",
       "      <td>61</td>\n",
       "      <td>female</td>\n",
       "      <td>29.070</td>\n",
       "      <td>0</td>\n",
       "      <td>1</td>\n",
       "      <td>northwest</td>\n",
       "      <td>29141.36030</td>\n",
       "      <td>3721</td>\n",
       "    </tr>\n",
       "  </tbody>\n",
       "</table>\n",
       "<p>1338 rows × 8 columns</p>\n",
       "</div>"
      ],
      "text/plain": [
       "      age     sex     bmi  children  smoker     region      charges  age^2\n",
       "0      19  female  27.900         0       1  southwest  16884.92400    361\n",
       "1      18    male  33.770         1       0  southeast   1725.55230    324\n",
       "2      28    male  33.000         3       0  southeast   4449.46200    784\n",
       "3      33    male  22.705         0       0  northwest  21984.47061   1089\n",
       "4      32    male  28.880         0       0  northwest   3866.85520   1024\n",
       "...   ...     ...     ...       ...     ...        ...          ...    ...\n",
       "1333   50    male  30.970         3       0  northwest  10600.54830   2500\n",
       "1334   18  female  31.920         0       0  northeast   2205.98080    324\n",
       "1335   18  female  36.850         0       0  southeast   1629.83350    324\n",
       "1336   21  female  25.800         0       0  southwest   2007.94500    441\n",
       "1337   61  female  29.070         0       1  northwest  29141.36030   3721\n",
       "\n",
       "[1338 rows x 8 columns]"
      ]
     },
     "execution_count": 47,
     "metadata": {},
     "output_type": "execute_result"
    }
   ],
   "source": [
    "df['age^2']  = df['age']*df['age']\n",
    "df"
   ]
  },
  {
   "cell_type": "markdown",
   "id": "bac236c5-8b86-46a4-bd38-d4f130cf9f7f",
   "metadata": {},
   "source": [
    "$$\n",
    "charges = \\beta_0 + \\beta_1 * sex + \\beta_2 * age^2\n",
    "$$"
   ]
  },
  {
   "cell_type": "code",
   "execution_count": 48,
   "id": "b20ed136-49ac-4445-9627-a10438f5f61b",
   "metadata": {},
   "outputs": [
    {
     "data": {
      "text/plain": [
       "<AxesSubplot:xlabel='age^2', ylabel='charges'>"
      ]
     },
     "execution_count": 48,
     "metadata": {},
     "output_type": "execute_result"
    },
    {
     "data": {
      "image/png": "[encoded data removed]",
      "text/plain": [
       "<Figure size 640x480 with 1 Axes>"
      ]
     },
     "metadata": {},
     "output_type": "display_data"
    }
   ],
   "source": [
    "sns.regplot(data = df, y = 'charges', x = 'age^2', ci=None, order = 2, line_kws ={\"color\":\"pink\"})"
   ]
  },
  {
   "cell_type": "markdown",
   "id": "b849ecf3-6cab-4001-a662-7c97933fa43d",
   "metadata": {},
   "source": [
    "#### Мы изменили зависимость с линейной на квадратическую\n",
    "#### Итак, на данной модели можно наблюдать концентрацию значений наблюдений в начале координат, соответственно при использовании переменной второго порядка изменяется изгиб кривой (незначительно) и увеличивается точность предсказания. "
   ]
  },
  {
   "cell_type": "markdown",
   "id": "bc1fe950-34aa-46e2-84f4-850ee3998851",
   "metadata": {},
   "source": [
    "Перейдем к вычислению TSS, RSS, ESS"
   ]
  },
  {
   "cell_type": "code",
   "execution_count": 49,
   "id": "748ef29f-f076-4fd0-ba6c-bb518e65a89c",
   "metadata": {},
   "outputs": [
    {
     "data": {
      "text/plain": [
       "196074221568.367"
      ]
     },
     "execution_count": 49,
     "metadata": {},
     "output_type": "execute_result"
    }
   ],
   "source": [
    "## TSS\n",
    "model.centered_tss.round(3)"
   ]
  },
  {
   "cell_type": "markdown",
   "id": "b13e9389-b44b-4e96-86bd-0a8a1e3828df",
   "metadata": {},
   "source": [
    "#### TSS = 196074221568.367"
   ]
  },
  {
   "cell_type": "code",
   "execution_count": 50,
   "id": "f18c72c8-f9e7-4c97-bfd5-f9e5249c9e77",
   "metadata": {},
   "outputs": [
    {
     "data": {
      "text/plain": [
       "18321857664.839"
      ]
     },
     "execution_count": 50,
     "metadata": {},
     "output_type": "execute_result"
    }
   ],
   "source": [
    "## ESS\n",
    "model.ess.round(3)"
   ]
  },
  {
   "cell_type": "markdown",
   "id": "a91c8795-579f-4e35-813c-6481d0e504eb",
   "metadata": {},
   "source": [
    "#### ESS = 18321857664.839"
   ]
  },
  {
   "cell_type": "code",
   "execution_count": 51,
   "id": "6872e5cc-fa99-4f6e-9fd8-cf949e0ef269",
   "metadata": {},
   "outputs": [
    {
     "data": {
      "text/plain": [
       "177752363903.528"
      ]
     },
     "execution_count": 51,
     "metadata": {},
     "output_type": "execute_result"
    }
   ],
   "source": [
    "## RSS\n",
    "RSS = model.ssr.round(3)\n",
    "RSS"
   ]
  },
  {
   "cell_type": "markdown",
   "id": "1e9bd592-6b51-4934-935f-5eea9ed8c321",
   "metadata": {},
   "source": [
    "#### RSS = 177752363903.528"
   ]
  },
  {
   "cell_type": "code",
   "execution_count": 52,
   "id": "c77bb69f-389d-4842-a6bb-47e109485dd1",
   "metadata": {},
   "outputs": [
    {
     "data": {
      "text/plain": [
       "0.09344"
      ]
     },
     "execution_count": 52,
     "metadata": {},
     "output_type": "execute_result"
    }
   ],
   "source": [
    "# R^2\n",
    "model.rsquared.round(5)"
   ]
  },
  {
   "cell_type": "markdown",
   "id": "ca961a27-0fe6-4fb3-98e7-75700af778b4",
   "metadata": {},
   "source": [
    "#### R^2 = 0.09344"
   ]
  },
  {
   "cell_type": "markdown",
   "id": "6bf1157e-ef97-4d04-b863-dcf38af324db",
   "metadata": {
    "tags": []
   },
   "source": [
    "### Так как значение коэффициента детерминации близко к 0, следовательно модель недостаточно точная"
   ]
  },
  {
   "cell_type": "code",
   "execution_count": 53,
   "id": "d753deab-427d-4ac1-b666-ddc58f75817d",
   "metadata": {
    "tags": []
   },
   "outputs": [
    {
     "data": {
      "text/html": [
       "<table class=\"simpletable\">\n",
       "<caption>OLS Regression Results</caption>\n",
       "<tr>\n",
       "  <th>Dep. Variable:</th>         <td>charges</td>     <th>  R-squared:         </th> <td>   0.093</td> \n",
       "</tr>\n",
       "<tr>\n",
       "  <th>Model:</th>                   <td>OLS</td>       <th>  Adj. R-squared:    </th> <td>   0.092</td> \n",
       "</tr>\n",
       "<tr>\n",
       "  <th>Method:</th>             <td>Least Squares</td>  <th>  F-statistic:       </th> <td>   68.80</td> \n",
       "</tr>\n",
       "<tr>\n",
       "  <th>Date:</th>             <td>Tue, 23 May 2023</td> <th>  Prob (F-statistic):</th> <td>3.64e-29</td> \n",
       "</tr>\n",
       "<tr>\n",
       "  <th>Time:</th>                 <td>13:31:14</td>     <th>  Log-Likelihood:    </th> <td> -14412.</td> \n",
       "</tr>\n",
       "<tr>\n",
       "  <th>No. Observations:</th>      <td>  1338</td>      <th>  AIC:               </th> <td>2.883e+04</td>\n",
       "</tr>\n",
       "<tr>\n",
       "  <th>Df Residuals:</th>          <td>  1335</td>      <th>  BIC:               </th> <td>2.885e+04</td>\n",
       "</tr>\n",
       "<tr>\n",
       "  <th>Df Model:</th>              <td>     2</td>      <th>                     </th>     <td> </td>    \n",
       "</tr>\n",
       "<tr>\n",
       "  <th>Covariance Type:</th>      <td>nonrobust</td>    <th>                     </th>     <td> </td>    \n",
       "</tr>\n",
       "</table>\n",
       "<table class=\"simpletable\">\n",
       "<tr>\n",
       "       <td></td>          <th>coef</th>     <th>std err</th>      <th>t</th>      <th>P>|t|</th>  <th>[0.025</th>    <th>0.975]</th>  \n",
       "</tr>\n",
       "<tr>\n",
       "  <th>Intercept</th>   <td> 2343.6249</td> <td>  994.346</td> <td>    2.357</td> <td> 0.019</td> <td>  392.975</td> <td> 4294.275</td>\n",
       "</tr>\n",
       "<tr>\n",
       "  <th>sex[T.male]</th> <td> 1538.8314</td> <td>  631.084</td> <td>    2.438</td> <td> 0.015</td> <td>  300.807</td> <td> 2776.856</td>\n",
       "</tr>\n",
       "<tr>\n",
       "  <th>age</th>         <td>  258.8651</td> <td>   22.466</td> <td>   11.523</td> <td> 0.000</td> <td>  214.793</td> <td>  302.937</td>\n",
       "</tr>\n",
       "</table>\n",
       "<table class=\"simpletable\">\n",
       "<tr>\n",
       "  <th>Omnibus:</th>       <td>393.473</td> <th>  Durbin-Watson:     </th> <td>   2.045</td> \n",
       "</tr>\n",
       "<tr>\n",
       "  <th>Prob(Omnibus):</th> <td> 0.000</td>  <th>  Jarque-Bera (JB):  </th> <td> 842.057</td> \n",
       "</tr>\n",
       "<tr>\n",
       "  <th>Skew:</th>          <td> 1.711</td>  <th>  Prob(JB):          </th> <td>1.41e-183</td>\n",
       "</tr>\n",
       "<tr>\n",
       "  <th>Kurtosis:</th>      <td> 4.842</td>  <th>  Cond. No.          </th> <td>    136.</td> \n",
       "</tr>\n",
       "</table><br/><br/>Notes:<br/>[1] Standard Errors assume that the covariance matrix of the errors is correctly specified."
      ],
      "text/plain": [
       "<class 'statsmodels.iolib.summary.Summary'>\n",
       "\"\"\"\n",
       "                            OLS Regression Results                            \n",
       "==============================================================================\n",
       "Dep. Variable:                charges   R-squared:                       0.093\n",
       "Model:                            OLS   Adj. R-squared:                  0.092\n",
       "Method:                 Least Squares   F-statistic:                     68.80\n",
       "Date:                Tue, 23 May 2023   Prob (F-statistic):           3.64e-29\n",
       "Time:                        13:31:14   Log-Likelihood:                -14412.\n",
       "No. Observations:                1338   AIC:                         2.883e+04\n",
       "Df Residuals:                    1335   BIC:                         2.885e+04\n",
       "Df Model:                           2                                         \n",
       "Covariance Type:            nonrobust                                         \n",
       "===============================================================================\n",
       "                  coef    std err          t      P>|t|      [0.025      0.975]\n",
       "-------------------------------------------------------------------------------\n",
       "Intercept    2343.6249    994.346      2.357      0.019     392.975    4294.275\n",
       "sex[T.male]  1538.8314    631.084      2.438      0.015     300.807    2776.856\n",
       "age           258.8651     22.466     11.523      0.000     214.793     302.937\n",
       "==============================================================================\n",
       "Omnibus:                      393.473   Durbin-Watson:                   2.045\n",
       "Prob(Omnibus):                  0.000   Jarque-Bera (JB):              842.057\n",
       "Skew:                           1.711   Prob(JB):                    1.41e-183\n",
       "Kurtosis:                       4.842   Cond. No.                         136.\n",
       "==============================================================================\n",
       "\n",
       "Notes:\n",
       "[1] Standard Errors assume that the covariance matrix of the errors is correctly specified.\n",
       "\"\"\""
      ]
     },
     "execution_count": 53,
     "metadata": {},
     "output_type": "execute_result"
    }
   ],
   "source": [
    "models = smf.ols(data=df, formula='charges~age+sex').fit()\n",
    "models.summary()"
   ]
  },
  {
   "cell_type": "code",
   "execution_count": 54,
   "id": "c77b68e7-995a-4527-802b-66813eacf233",
   "metadata": {},
   "outputs": [
    {
     "data": {
      "text/html": [
       "<table class=\"simpletable\">\n",
       "<tr>\n",
       "       <td></td>          <th>coef</th>     <th>std err</th>      <th>t</th>      <th>P>|t|</th>  <th>[0.025</th>    <th>0.975]</th>  \n",
       "</tr>\n",
       "<tr>\n",
       "  <th>Intercept</th>   <td> 2343.6249</td> <td>  994.346</td> <td>    2.357</td> <td> 0.019</td> <td>  392.975</td> <td> 4294.275</td>\n",
       "</tr>\n",
       "<tr>\n",
       "  <th>sex[T.male]</th> <td> 1538.8314</td> <td>  631.084</td> <td>    2.438</td> <td> 0.015</td> <td>  300.807</td> <td> 2776.856</td>\n",
       "</tr>\n",
       "<tr>\n",
       "  <th>age</th>         <td>  258.8651</td> <td>   22.466</td> <td>   11.523</td> <td> 0.000</td> <td>  214.793</td> <td>  302.937</td>\n",
       "</tr>\n",
       "</table>"
      ],
      "text/plain": [
       "<class 'statsmodels.iolib.table.SimpleTable'>"
      ]
     },
     "execution_count": 54,
     "metadata": {},
     "output_type": "execute_result"
    }
   ],
   "source": [
    "models = smf.ols(data=df, formula='charges~age+sex').fit()\n",
    "models.summary(alpha = 0.05).tables[1]"
   ]
  },
  {
   "cell_type": "code",
   "execution_count": 55,
   "id": "6d7186eb-0075-4d64-9e8b-d9460b5d4fc8",
   "metadata": {},
   "outputs": [],
   "source": [
    "data_string = ''' coef std.err\n",
    "Intercept    2343.6249 994.346\n",
    "sex          1538.8314 631.084\n",
    "age           258.8651 22.466'''"
   ]
  },
  {
   "cell_type": "code",
   "execution_count": 56,
   "id": "eec873e4-8e51-4952-9b27-5b01a942e65f",
   "metadata": {},
   "outputs": [
    {
     "data": {
      "text/html": [
       "<div>\n",
       "<style scoped>\n",
       "    .dataframe tbody tr th:only-of-type {\n",
       "        vertical-align: middle;\n",
       "    }\n",
       "\n",
       "    .dataframe tbody tr th {\n",
       "        vertical-align: top;\n",
       "    }\n",
       "\n",
       "    .dataframe thead th {\n",
       "        text-align: right;\n",
       "    }\n",
       "</style>\n",
       "<table border=\"1\" class=\"dataframe\">\n",
       "  <thead>\n",
       "    <tr style=\"text-align: right;\">\n",
       "      <th></th>\n",
       "      <th>coef</th>\n",
       "      <th>std.err</th>\n",
       "    </tr>\n",
       "  </thead>\n",
       "  <tbody>\n",
       "    <tr>\n",
       "      <th>Intercept</th>\n",
       "      <td>2343.6249</td>\n",
       "      <td>994.346</td>\n",
       "    </tr>\n",
       "    <tr>\n",
       "      <th>sex</th>\n",
       "      <td>1538.8314</td>\n",
       "      <td>631.084</td>\n",
       "    </tr>\n",
       "    <tr>\n",
       "      <th>age</th>\n",
       "      <td>258.8651</td>\n",
       "      <td>22.466</td>\n",
       "    </tr>\n",
       "  </tbody>\n",
       "</table>\n",
       "</div>"
      ],
      "text/plain": [
       "                coef  std.err\n",
       "Intercept  2343.6249  994.346\n",
       "sex        1538.8314  631.084\n",
       "age         258.8651   22.466"
      ]
     },
     "execution_count": 56,
     "metadata": {},
     "output_type": "execute_result"
    }
   ],
   "source": [
    "df = pd.read_csv(io.StringIO(data_string), sep='\\s+')\n",
    "df"
   ]
  },
  {
   "cell_type": "code",
   "execution_count": 57,
   "id": "c8599be9-c2e5-4799-ad1c-388194a1d393",
   "metadata": {},
   "outputs": [
    {
     "data": {
      "text/html": [
       "<div>\n",
       "<style scoped>\n",
       "    .dataframe tbody tr th:only-of-type {\n",
       "        vertical-align: middle;\n",
       "    }\n",
       "\n",
       "    .dataframe tbody tr th {\n",
       "        vertical-align: top;\n",
       "    }\n",
       "\n",
       "    .dataframe thead th {\n",
       "        text-align: right;\n",
       "    }\n",
       "</style>\n",
       "<table border=\"1\" class=\"dataframe\">\n",
       "  <thead>\n",
       "    <tr style=\"text-align: right;\">\n",
       "      <th></th>\n",
       "      <th>coef</th>\n",
       "      <th>std.err</th>\n",
       "      <th>t_nabl</th>\n",
       "    </tr>\n",
       "  </thead>\n",
       "  <tbody>\n",
       "    <tr>\n",
       "      <th>Intercept</th>\n",
       "      <td>2343.6249</td>\n",
       "      <td>994.346</td>\n",
       "      <td>2.356951</td>\n",
       "    </tr>\n",
       "    <tr>\n",
       "      <th>sex</th>\n",
       "      <td>1538.8314</td>\n",
       "      <td>631.084</td>\n",
       "      <td>2.438394</td>\n",
       "    </tr>\n",
       "    <tr>\n",
       "      <th>age</th>\n",
       "      <td>258.8651</td>\n",
       "      <td>22.466</td>\n",
       "      <td>11.522527</td>\n",
       "    </tr>\n",
       "  </tbody>\n",
       "</table>\n",
       "</div>"
      ],
      "text/plain": [
       "                coef  std.err     t_nabl\n",
       "Intercept  2343.6249  994.346   2.356951\n",
       "sex        1538.8314  631.084   2.438394\n",
       "age         258.8651   22.466  11.522527"
      ]
     },
     "execution_count": 57,
     "metadata": {},
     "output_type": "execute_result"
    }
   ],
   "source": [
    "df['t_nabl'] = df['coef']/df['std.err']\n",
    "df"
   ]
  },
  {
   "cell_type": "code",
   "execution_count": 58,
   "id": "57fc2fa7-7feb-4088-8388-a1305ab24575",
   "metadata": {},
   "outputs": [
    {
     "data": {
      "text/plain": [
       "1.9617438859517862"
      ]
     },
     "execution_count": 58,
     "metadata": {},
     "output_type": "execute_result"
    }
   ],
   "source": [
    "t_cr = stats.t.ppf(1-0.05/2, 1338 - 3 - 1)\n",
    "t_cr"
   ]
  },
  {
   "cell_type": "markdown",
   "id": "e721cfe8-7708-4b5f-8f60-0dcd1ac04b75",
   "metadata": {},
   "source": [
    "$$\n",
    "t_{critical}=1.962\n",
    "$$"
   ]
  },
  {
   "cell_type": "code",
   "execution_count": 59,
   "id": "a5b7b627-1fe2-406b-aea0-0291597dcf42",
   "metadata": {},
   "outputs": [
    {
     "data": {
      "text/html": [
       "<div>\n",
       "<style scoped>\n",
       "    .dataframe tbody tr th:only-of-type {\n",
       "        vertical-align: middle;\n",
       "    }\n",
       "\n",
       "    .dataframe tbody tr th {\n",
       "        vertical-align: top;\n",
       "    }\n",
       "\n",
       "    .dataframe thead th {\n",
       "        text-align: right;\n",
       "    }\n",
       "</style>\n",
       "<table border=\"1\" class=\"dataframe\">\n",
       "  <thead>\n",
       "    <tr style=\"text-align: right;\">\n",
       "      <th></th>\n",
       "      <th>coef</th>\n",
       "      <th>std.err</th>\n",
       "      <th>t_nabl</th>\n",
       "      <th>Znachimosty</th>\n",
       "    </tr>\n",
       "  </thead>\n",
       "  <tbody>\n",
       "    <tr>\n",
       "      <th>Intercept</th>\n",
       "      <td>2343.6249</td>\n",
       "      <td>994.346</td>\n",
       "      <td>2.356951</td>\n",
       "      <td>znachim</td>\n",
       "    </tr>\n",
       "    <tr>\n",
       "      <th>sex</th>\n",
       "      <td>1538.8314</td>\n",
       "      <td>631.084</td>\n",
       "      <td>2.438394</td>\n",
       "      <td>znachim</td>\n",
       "    </tr>\n",
       "    <tr>\n",
       "      <th>age</th>\n",
       "      <td>258.8651</td>\n",
       "      <td>22.466</td>\n",
       "      <td>11.522527</td>\n",
       "      <td>znachim</td>\n",
       "    </tr>\n",
       "  </tbody>\n",
       "</table>\n",
       "</div>"
      ],
      "text/plain": [
       "                coef  std.err     t_nabl Znachimosty\n",
       "Intercept  2343.6249  994.346   2.356951     znachim\n",
       "sex        1538.8314  631.084   2.438394     znachim\n",
       "age         258.8651   22.466  11.522527     znachim"
      ]
     },
     "execution_count": 59,
     "metadata": {},
     "output_type": "execute_result"
    }
   ],
   "source": [
    "df['Znachimosty'] = df.apply(lambda x: 'znachim' if np.abs(x['t_nabl']) >t_cr else 'ne znachim', axis = 1)\n",
    "df"
   ]
  },
  {
   "cell_type": "markdown",
   "id": "2c1e6359-493c-4df5-8e2a-1da94acf7c36",
   "metadata": {},
   "source": [
    " ##### коэффициенты Intercept, sex, age являются значимыми"
   ]
  },
  {
   "cell_type": "markdown",
   "id": "036ea71f-9f5e-4e50-8456-a132508670cd",
   "metadata": {
    "tags": []
   },
   "source": [
    "## F-test"
   ]
  },
  {
   "cell_type": "markdown",
   "id": "8753894d-1561-4c28-b67c-97b3d4c64456",
   "metadata": {
    "tags": []
   },
   "source": [
    "$$\n",
    "H0: \\beta_{charges}=\\beta_{sex}=\\beta_{age}=\\beta_{region}=0\n",
    "$$\n",
    "$$\n",
    "H1: \\beta_{charges}^2+\\beta_{sex}^2+\\beta_{age}^2+\\beta_{region}^2>0\n",
    "$$"
   ]
  },
  {
   "cell_type": "code",
   "execution_count": 62,
   "id": "8eafc98c-dc3e-4361-bedd-78f1ae73b236",
   "metadata": {},
   "outputs": [
    {
     "data": {
      "text/plain": [
       "Intercept              2452.036\n",
       "sex[T.male]            1504.988\n",
       "region[T.northwest]    -958.626\n",
       "region[T.southeast]    1390.153\n",
       "region[T.southwest]   -1105.643\n",
       "age                     259.679\n",
       "dtype: float64"
      ]
     },
     "execution_count": 62,
     "metadata": {},
     "output_type": "execute_result"
    }
   ],
   "source": [
    "model = smf.ols(formula = 'charges~sex+age+region', data=df).fit()\n",
    "model.params.round(3)"
   ]
  },
  {
   "cell_type": "code",
   "execution_count": 63,
   "id": "251a8408-01d4-44e8-92d1-10bc1a1b009e",
   "metadata": {},
   "outputs": [
    {
     "data": {
      "text/plain": [
       "176373850650.023"
      ]
     },
     "execution_count": 63,
     "metadata": {},
     "output_type": "execute_result"
    }
   ],
   "source": [
    "# RSS \n",
    "RSS2 = model.ssr.round(3)\n",
    "RSS2"
   ]
  },
  {
   "cell_type": "code",
   "execution_count": 64,
   "id": "04adbdb2-f4c4-40c0-ae88-a044b7444088",
   "metadata": {},
   "outputs": [
    {
     "data": {
      "text/plain": [
       "196074221568.367"
      ]
     },
     "execution_count": 64,
     "metadata": {},
     "output_type": "execute_result"
    }
   ],
   "source": [
    "# TSS \n",
    "TSS2 = model.centered_tss.round(3)\n",
    "TSS2"
   ]
  },
  {
   "cell_type": "code",
   "execution_count": 65,
   "id": "7701b4ba-dca9-4b21-b9aa-3ac3e989702c",
   "metadata": {},
   "outputs": [
    {
     "data": {
      "text/plain": [
       "0.8995259511384831"
      ]
     },
     "execution_count": 65,
     "metadata": {},
     "output_type": "execute_result"
    }
   ],
   "source": [
    "#R^2 \n",
    "R2_2 = RSS2/TSS2\n",
    "R2_2"
   ]
  },
  {
   "cell_type": "code",
   "execution_count": 66,
   "id": "fad22f0a-12f5-4d4e-9d56-41b2af060df6",
   "metadata": {},
   "outputs": [
    {
     "name": "stdout",
     "output_type": "stream",
     "text": [
      "0.576 0.98\n"
     ]
    }
   ],
   "source": [
    "unrest, rest = np.float_(re.findall(r'([-+]?\\d+.\\d+)','R2                      0.576          0.98'))\n",
    "print (unrest, rest)"
   ]
  },
  {
   "cell_type": "code",
   "execution_count": 67,
   "id": "86361e7b-82b9-46df-b312-189888d7f1a5",
   "metadata": {},
   "outputs": [
    {
     "data": {
      "text/plain": [
       "-1187.941037735849"
      ]
     },
     "execution_count": 67,
     "metadata": {},
     "output_type": "execute_result"
    }
   ],
   "source": [
    "F_obs = (unrest - rest)/(1-unrest)*(5000 - 13)/4\n",
    "F_obs"
   ]
  },
  {
   "cell_type": "code",
   "execution_count": 68,
   "id": "f134f357-35c8-4ec1-9c02-e408a32899d3",
   "metadata": {},
   "outputs": [
    {
     "data": {
      "text/plain": [
       "2.373713672224553"
      ]
     },
     "execution_count": 68,
     "metadata": {},
     "output_type": "execute_result"
    }
   ],
   "source": [
    "alpha = 0.05\n",
    "F_cr = stats.f.ppf(1-alpha, 4, 5000-13)\n",
    "F_cr"
   ]
  },
  {
   "cell_type": "markdown",
   "id": "a5b2b080-8100-4cdc-b37d-ead2a077f448",
   "metadata": {},
   "source": [
    "$$\n",
    "F_{obs}<F{cr}; \n",
    "$$"
   ]
  },
  {
   "cell_type": "markdown",
   "id": "67d99851-228f-424f-a749-6458052cc0a7",
   "metadata": {},
   "source": [
    "Вывод:Данные согласуются с гипотезорй Н0"
   ]
  },
  {
   "cell_type": "markdown",
   "id": "2972e11e-02a3-4ffc-aecd-dc6f9fd83a37",
   "metadata": {},
   "source": [
    "## Доверительные интервалы"
   ]
  },
  {
   "cell_type": "code",
   "execution_count": 69,
   "id": "c8b7f28a-3fcb-4eab-8187-a1744a94882b",
   "metadata": {},
   "outputs": [
    {
     "data": {
      "text/html": [
       "<table class=\"simpletable\">\n",
       "<caption>OLS Regression Results</caption>\n",
       "<tr>\n",
       "  <th>Dep. Variable:</th>         <td>charges</td>     <th>  R-squared:         </th> <td>   0.093</td> \n",
       "</tr>\n",
       "<tr>\n",
       "  <th>Model:</th>                   <td>OLS</td>       <th>  Adj. R-squared:    </th> <td>   0.092</td> \n",
       "</tr>\n",
       "<tr>\n",
       "  <th>Method:</th>             <td>Least Squares</td>  <th>  F-statistic:       </th> <td>   68.80</td> \n",
       "</tr>\n",
       "<tr>\n",
       "  <th>Date:</th>             <td>Tue, 23 May 2023</td> <th>  Prob (F-statistic):</th> <td>3.64e-29</td> \n",
       "</tr>\n",
       "<tr>\n",
       "  <th>Time:</th>                 <td>13:32:39</td>     <th>  Log-Likelihood:    </th> <td> -14412.</td> \n",
       "</tr>\n",
       "<tr>\n",
       "  <th>No. Observations:</th>      <td>  1338</td>      <th>  AIC:               </th> <td>2.883e+04</td>\n",
       "</tr>\n",
       "<tr>\n",
       "  <th>Df Residuals:</th>          <td>  1335</td>      <th>  BIC:               </th> <td>2.885e+04</td>\n",
       "</tr>\n",
       "<tr>\n",
       "  <th>Df Model:</th>              <td>     2</td>      <th>                     </th>     <td> </td>    \n",
       "</tr>\n",
       "<tr>\n",
       "  <th>Covariance Type:</th>      <td>nonrobust</td>    <th>                     </th>     <td> </td>    \n",
       "</tr>\n",
       "</table>\n",
       "<table class=\"simpletable\">\n",
       "<tr>\n",
       "       <td></td>          <th>coef</th>     <th>std err</th>      <th>t</th>      <th>P>|t|</th>  <th>[0.025</th>    <th>0.975]</th>  \n",
       "</tr>\n",
       "<tr>\n",
       "  <th>Intercept</th>   <td> 2343.6249</td> <td>  994.346</td> <td>    2.357</td> <td> 0.019</td> <td>  392.975</td> <td> 4294.275</td>\n",
       "</tr>\n",
       "<tr>\n",
       "  <th>sex[T.male]</th> <td> 1538.8314</td> <td>  631.084</td> <td>    2.438</td> <td> 0.015</td> <td>  300.807</td> <td> 2776.856</td>\n",
       "</tr>\n",
       "<tr>\n",
       "  <th>age</th>         <td>  258.8651</td> <td>   22.466</td> <td>   11.523</td> <td> 0.000</td> <td>  214.793</td> <td>  302.937</td>\n",
       "</tr>\n",
       "</table>\n",
       "<table class=\"simpletable\">\n",
       "<tr>\n",
       "  <th>Omnibus:</th>       <td>393.473</td> <th>  Durbin-Watson:     </th> <td>   2.045</td> \n",
       "</tr>\n",
       "<tr>\n",
       "  <th>Prob(Omnibus):</th> <td> 0.000</td>  <th>  Jarque-Bera (JB):  </th> <td> 842.057</td> \n",
       "</tr>\n",
       "<tr>\n",
       "  <th>Skew:</th>          <td> 1.711</td>  <th>  Prob(JB):          </th> <td>1.41e-183</td>\n",
       "</tr>\n",
       "<tr>\n",
       "  <th>Kurtosis:</th>      <td> 4.842</td>  <th>  Cond. No.          </th> <td>    136.</td> \n",
       "</tr>\n",
       "</table><br/><br/>Notes:<br/>[1] Standard Errors assume that the covariance matrix of the errors is correctly specified."
      ],
      "text/plain": [
       "<class 'statsmodels.iolib.summary.Summary'>\n",
       "\"\"\"\n",
       "                            OLS Regression Results                            \n",
       "==============================================================================\n",
       "Dep. Variable:                charges   R-squared:                       0.093\n",
       "Model:                            OLS   Adj. R-squared:                  0.092\n",
       "Method:                 Least Squares   F-statistic:                     68.80\n",
       "Date:                Tue, 23 May 2023   Prob (F-statistic):           3.64e-29\n",
       "Time:                        13:32:39   Log-Likelihood:                -14412.\n",
       "No. Observations:                1338   AIC:                         2.883e+04\n",
       "Df Residuals:                    1335   BIC:                         2.885e+04\n",
       "Df Model:                           2                                         \n",
       "Covariance Type:            nonrobust                                         \n",
       "===============================================================================\n",
       "                  coef    std err          t      P>|t|      [0.025      0.975]\n",
       "-------------------------------------------------------------------------------\n",
       "Intercept    2343.6249    994.346      2.357      0.019     392.975    4294.275\n",
       "sex[T.male]  1538.8314    631.084      2.438      0.015     300.807    2776.856\n",
       "age           258.8651     22.466     11.523      0.000     214.793     302.937\n",
       "==============================================================================\n",
       "Omnibus:                      393.473   Durbin-Watson:                   2.045\n",
       "Prob(Omnibus):                  0.000   Jarque-Bera (JB):              842.057\n",
       "Skew:                           1.711   Prob(JB):                    1.41e-183\n",
       "Kurtosis:                       4.842   Cond. No.                         136.\n",
       "==============================================================================\n",
       "\n",
       "Notes:\n",
       "[1] Standard Errors assume that the covariance matrix of the errors is correctly specified.\n",
       "\"\"\""
      ]
     },
     "execution_count": 69,
     "metadata": {},
     "output_type": "execute_result"
    }
   ],
   "source": [
    "models = smf.ols(data=df, formula='charges~age+sex').fit()\n",
    "models.summary()"
   ]
  },
  {
   "cell_type": "code",
   "execution_count": 70,
   "id": "0d1332d3-fb40-4f64-b057-9608748215fc",
   "metadata": {},
   "outputs": [
    {
     "data": {
      "text/html": [
       "<div>\n",
       "<style scoped>\n",
       "    .dataframe tbody tr th:only-of-type {\n",
       "        vertical-align: middle;\n",
       "    }\n",
       "\n",
       "    .dataframe tbody tr th {\n",
       "        vertical-align: top;\n",
       "    }\n",
       "\n",
       "    .dataframe thead th {\n",
       "        text-align: right;\n",
       "    }\n",
       "</style>\n",
       "<table border=\"1\" class=\"dataframe\">\n",
       "  <thead>\n",
       "    <tr style=\"text-align: right;\">\n",
       "      <th></th>\n",
       "      <th>coef</th>\n",
       "      <th>std err</th>\n",
       "      <th>t</th>\n",
       "      <th>P&gt;|t|</th>\n",
       "      <th>[0.025</th>\n",
       "      <th>0.975]</th>\n",
       "    </tr>\n",
       "  </thead>\n",
       "  <tbody>\n",
       "    <tr>\n",
       "      <th>Intercept</th>\n",
       "      <td>2452.0357</td>\n",
       "      <td>1137.800</td>\n",
       "      <td>2.155</td>\n",
       "      <td>0.031</td>\n",
       "      <td>219.960</td>\n",
       "      <td>4684.111</td>\n",
       "    </tr>\n",
       "    <tr>\n",
       "      <th>sex[T.male]</th>\n",
       "      <td>1504.9883</td>\n",
       "      <td>629.440</td>\n",
       "      <td>2.391</td>\n",
       "      <td>0.017</td>\n",
       "      <td>270.187</td>\n",
       "      <td>2739.790</td>\n",
       "    </tr>\n",
       "    <tr>\n",
       "      <th>region[T.northwest]</th>\n",
       "      <td>-958.6262</td>\n",
       "      <td>903.400</td>\n",
       "      <td>-1.061</td>\n",
       "      <td>0.289</td>\n",
       "      <td>-2730.868</td>\n",
       "      <td>813.616</td>\n",
       "    </tr>\n",
       "    <tr>\n",
       "      <th>region[T.southeast]</th>\n",
       "      <td>1390.1534</td>\n",
       "      <td>878.981</td>\n",
       "      <td>1.582</td>\n",
       "      <td>0.114</td>\n",
       "      <td>-334.184</td>\n",
       "      <td>3114.491</td>\n",
       "    </tr>\n",
       "    <tr>\n",
       "      <th>region[T.southwest]</th>\n",
       "      <td>-1105.6427</td>\n",
       "      <td>903.396</td>\n",
       "      <td>-1.224</td>\n",
       "      <td>0.221</td>\n",
       "      <td>-2877.876</td>\n",
       "      <td>666.591</td>\n",
       "    </tr>\n",
       "    <tr>\n",
       "      <th>age</th>\n",
       "      <td>259.6790</td>\n",
       "      <td>22.406</td>\n",
       "      <td>11.590</td>\n",
       "      <td>0.000</td>\n",
       "      <td>215.725</td>\n",
       "      <td>303.633</td>\n",
       "    </tr>\n",
       "  </tbody>\n",
       "</table>\n",
       "</div>"
      ],
      "text/plain": [
       "                          coef   std err       t  P>|t|    [0.025    0.975]\n",
       "Intercept            2452.0357  1137.800   2.155  0.031   219.960  4684.111\n",
       "sex[T.male]          1504.9883   629.440   2.391  0.017   270.187  2739.790\n",
       "region[T.northwest]  -958.6262   903.400  -1.061  0.289 -2730.868   813.616\n",
       "region[T.southeast]  1390.1534   878.981   1.582  0.114  -334.184  3114.491\n",
       "region[T.southwest] -1105.6427   903.396  -1.224  0.221 -2877.876   666.591\n",
       "age                   259.6790    22.406  11.590  0.000   215.725   303.633"
      ]
     },
     "execution_count": 70,
     "metadata": {},
     "output_type": "execute_result"
    }
   ],
   "source": [
    "df_table = pd.read_html(model.summary().tables[1].as_html(), header = 0, index_col = 0)[0]\n",
    "df_table"
   ]
  },
  {
   "cell_type": "code",
   "execution_count": 71,
   "id": "eeb89033-8286-4eb2-b976-7cfe28aed866",
   "metadata": {},
   "outputs": [],
   "source": [
    "alpha = 0.05"
   ]
  },
  {
   "cell_type": "code",
   "execution_count": 72,
   "id": "10266ef5-61bd-4fd6-a8aa-99248894da41",
   "metadata": {},
   "outputs": [],
   "source": [
    "nobs = model.nobs\n",
    "regr_cnt = model.df_model + 1\n",
    "t_cr = stats.t.ppf(1-alpha/2, nobs - regr_cnt)"
   ]
  },
  {
   "cell_type": "code",
   "execution_count": 73,
   "id": "fbefc747-4b28-400f-864c-52d426d628a1",
   "metadata": {},
   "outputs": [
    {
     "data": {
      "text/plain": [
       "6.0"
      ]
     },
     "execution_count": 73,
     "metadata": {},
     "output_type": "execute_result"
    }
   ],
   "source": [
    "regr_cnt"
   ]
  },
  {
   "cell_type": "code",
   "execution_count": 74,
   "id": "37135e10-c83d-4a33-b21b-bafc978dc9e0",
   "metadata": {},
   "outputs": [
    {
     "data": {
      "text/plain": [
       "1338.0"
      ]
     },
     "execution_count": 74,
     "metadata": {},
     "output_type": "execute_result"
    }
   ],
   "source": [
    "nobs"
   ]
  },
  {
   "cell_type": "code",
   "execution_count": 75,
   "id": "232e2c63-291e-4a1f-9759-2c64d815ff9f",
   "metadata": {},
   "outputs": [
    {
     "data": {
      "text/plain": [
       "1.9617465608647315"
      ]
     },
     "execution_count": 75,
     "metadata": {},
     "output_type": "execute_result"
    }
   ],
   "source": [
    "t_cr"
   ]
  },
  {
   "cell_type": "code",
   "execution_count": 76,
   "id": "33637373-f106-4f47-b596-8b139e236127",
   "metadata": {},
   "outputs": [],
   "source": [
    "#количество регрессоров + 1 = 6\n",
    "#количество наблюдений = 1338\n",
    "#критическое значение = 1.962\n",
    "#уровень значимости 5%"
   ]
  },
  {
   "cell_type": "code",
   "execution_count": 77,
   "id": "8a7f53a3-eb4f-4799-9716-1fcf5b1fa7fe",
   "metadata": {},
   "outputs": [
    {
     "data": {
      "text/html": [
       "<div>\n",
       "<style scoped>\n",
       "    .dataframe tbody tr th:only-of-type {\n",
       "        vertical-align: middle;\n",
       "    }\n",
       "\n",
       "    .dataframe tbody tr th {\n",
       "        vertical-align: top;\n",
       "    }\n",
       "\n",
       "    .dataframe thead th {\n",
       "        text-align: right;\n",
       "    }\n",
       "</style>\n",
       "<table border=\"1\" class=\"dataframe\">\n",
       "  <thead>\n",
       "    <tr style=\"text-align: right;\">\n",
       "      <th></th>\n",
       "      <th>coef</th>\n",
       "      <th>std err</th>\n",
       "      <th>t</th>\n",
       "      <th>P&gt;|t|</th>\n",
       "      <th>[0.025</th>\n",
       "      <th>0.975]</th>\n",
       "      <th>lower</th>\n",
       "      <th>upper</th>\n",
       "    </tr>\n",
       "  </thead>\n",
       "  <tbody>\n",
       "    <tr>\n",
       "      <th>Intercept</th>\n",
       "      <td>2452.0357</td>\n",
       "      <td>1137.800</td>\n",
       "      <td>2.155</td>\n",
       "      <td>0.031</td>\n",
       "      <td>219.960</td>\n",
       "      <td>4684.111</td>\n",
       "      <td>219.96</td>\n",
       "      <td>4684.11</td>\n",
       "    </tr>\n",
       "    <tr>\n",
       "      <th>sex[T.male]</th>\n",
       "      <td>1504.9883</td>\n",
       "      <td>629.440</td>\n",
       "      <td>2.391</td>\n",
       "      <td>0.017</td>\n",
       "      <td>270.187</td>\n",
       "      <td>2739.790</td>\n",
       "      <td>270.19</td>\n",
       "      <td>2739.79</td>\n",
       "    </tr>\n",
       "    <tr>\n",
       "      <th>region[T.northwest]</th>\n",
       "      <td>-958.6262</td>\n",
       "      <td>903.400</td>\n",
       "      <td>-1.061</td>\n",
       "      <td>0.289</td>\n",
       "      <td>-2730.868</td>\n",
       "      <td>813.616</td>\n",
       "      <td>-2730.87</td>\n",
       "      <td>813.62</td>\n",
       "    </tr>\n",
       "    <tr>\n",
       "      <th>region[T.southeast]</th>\n",
       "      <td>1390.1534</td>\n",
       "      <td>878.981</td>\n",
       "      <td>1.582</td>\n",
       "      <td>0.114</td>\n",
       "      <td>-334.184</td>\n",
       "      <td>3114.491</td>\n",
       "      <td>-334.18</td>\n",
       "      <td>3114.49</td>\n",
       "    </tr>\n",
       "    <tr>\n",
       "      <th>region[T.southwest]</th>\n",
       "      <td>-1105.6427</td>\n",
       "      <td>903.396</td>\n",
       "      <td>-1.224</td>\n",
       "      <td>0.221</td>\n",
       "      <td>-2877.876</td>\n",
       "      <td>666.591</td>\n",
       "      <td>-2877.88</td>\n",
       "      <td>666.59</td>\n",
       "    </tr>\n",
       "    <tr>\n",
       "      <th>age</th>\n",
       "      <td>259.6790</td>\n",
       "      <td>22.406</td>\n",
       "      <td>11.590</td>\n",
       "      <td>0.000</td>\n",
       "      <td>215.725</td>\n",
       "      <td>303.633</td>\n",
       "      <td>215.72</td>\n",
       "      <td>303.63</td>\n",
       "    </tr>\n",
       "  </tbody>\n",
       "</table>\n",
       "</div>"
      ],
      "text/plain": [
       "                          coef   std err       t  P>|t|    [0.025    0.975]  \\\n",
       "Intercept            2452.0357  1137.800   2.155  0.031   219.960  4684.111   \n",
       "sex[T.male]          1504.9883   629.440   2.391  0.017   270.187  2739.790   \n",
       "region[T.northwest]  -958.6262   903.400  -1.061  0.289 -2730.868   813.616   \n",
       "region[T.southeast]  1390.1534   878.981   1.582  0.114  -334.184  3114.491   \n",
       "region[T.southwest] -1105.6427   903.396  -1.224  0.221 -2877.876   666.591   \n",
       "age                   259.6790    22.406  11.590  0.000   215.725   303.633   \n",
       "\n",
       "                       lower    upper  \n",
       "Intercept             219.96  4684.11  \n",
       "sex[T.male]           270.19  2739.79  \n",
       "region[T.northwest] -2730.87   813.62  \n",
       "region[T.southeast]  -334.18  3114.49  \n",
       "region[T.southwest] -2877.88   666.59  \n",
       "age                   215.72   303.63  "
      ]
     },
     "execution_count": 77,
     "metadata": {},
     "output_type": "execute_result"
    }
   ],
   "source": [
    "df_table['lower'] = (df_table['coef'].astype(float) - df_table['std err'].astype(float)*t_cr).round(2)\n",
    "df_table['upper'] = (df_table['coef'].astype(float) + df_table['std err'].astype(float)*t_cr).round(2)\n",
    "df_table"
   ]
  },
  {
   "cell_type": "markdown",
   "id": "f499ca0c-7ea2-4152-9c6a-231dd81aa346",
   "metadata": {},
   "source": [
    "## Мультиколлинеарность"
   ]
  },
  {
   "cell_type": "code",
   "execution_count": 81,
   "id": "028aa45f-ff54-44f3-ba0e-55504382bdcd",
   "metadata": {
    "tags": []
   },
   "outputs": [
    {
     "data": {
      "text/plain": [
       "Intercept    31.000\n",
       "bmi           0.251\n",
       "children      0.479\n",
       "dtype: float64"
      ]
     },
     "execution_count": 81,
     "metadata": {},
     "output_type": "execute_result"
    }
   ],
   "source": [
    "model__0 = smf.ols(data = df , formula = 'charges~age+bmi+children').fit()\n",
    "model__1 = smf.ols(data = df , formula = 'age~bmi+children').fit()\n",
    "model__2 = smf.ols(data = df , formula = 'children~age+bmi').fit()\n",
    "model__1.params.round(3)"
   ]
  },
  {
   "cell_type": "code",
   "execution_count": 82,
   "id": "ba640738-61bd-4598-9474-f49f0bff9497",
   "metadata": {},
   "outputs": [
    {
     "data": {
      "text/plain": [
       "0.013627758762780773"
      ]
     },
     "execution_count": 82,
     "metadata": {},
     "output_type": "execute_result"
    }
   ],
   "source": [
    "model__1.rsquared"
   ]
  },
  {
   "cell_type": "code",
   "execution_count": 83,
   "id": "cea276fe-2b8e-4dbb-b786-ebe0d314333e",
   "metadata": {},
   "outputs": [
    {
     "data": {
      "text/plain": [
       "1.01"
      ]
     },
     "execution_count": 83,
     "metadata": {},
     "output_type": "execute_result"
    }
   ],
   "source": [
    "VIF_1 = 1/(1 - model__1.rsquared.round(3))\n",
    "VIF_1.round(2)"
   ]
  },
  {
   "cell_type": "code",
   "execution_count": 84,
   "id": "aecd00cc-16ea-4446-bfd2-9014932034b6",
   "metadata": {},
   "outputs": [
    {
     "data": {
      "text/plain": [
       "1.0"
      ]
     },
     "execution_count": 84,
     "metadata": {},
     "output_type": "execute_result"
    }
   ],
   "source": [
    "VIF_2 = 1/(1 - model__2.rsquared.round(3))\n",
    "VIF_2.round(2)"
   ]
  },
  {
   "cell_type": "markdown",
   "id": "64ac2591-be2f-4804-a3ac-03dc59b71fb5",
   "metadata": {},
   "source": [
    "## Дамми-переменные"
   ]
  },
  {
   "cell_type": "markdown",
   "id": "0b3d47c9-b7bb-4d50-813c-44209f3a1ef2",
   "metadata": {},
   "source": [
    "$$\n",
    "Н0: \\beta_{charges}=\\beta_{age}=\\beta_{region}=\\beta{sex}=0\n",
    "$$\n",
    "$$\n",
    "H1: \\beta_{charges}^2+\\beta_{age}^2+\\beta_{region}^2+\\beta{sex}^2>0\n",
    "$$"
   ]
  },
  {
   "cell_type": "code",
   "execution_count": 85,
   "id": "430989f4-89d1-4e15-b0e2-62981e47a5cf",
   "metadata": {},
   "outputs": [],
   "source": [
    "data_string = '''R2                      0.09344          0.899  '''\n",
    "rest, unrest =np.float_(re.findall(r'([-+]?\\d+.\\d+)', data_string)) "
   ]
  },
  {
   "cell_type": "code",
   "execution_count": 86,
   "id": "05ffd7a2-193b-4d52-a7e7-6172e5ac0902",
   "metadata": {},
   "outputs": [
    {
     "data": {
      "text/plain": [
       "1475.53"
      ]
     },
     "execution_count": 86,
     "metadata": {},
     "output_type": "execute_result"
    }
   ],
   "source": [
    "F_obs = (unrest - rest)/(1-unrest)*(935-10)/5\n",
    "F_obs.round(2)"
   ]
  },
  {
   "cell_type": "code",
   "execution_count": 87,
   "id": "c2538075-77f6-4fdc-a2cf-75c3b4ee814a",
   "metadata": {},
   "outputs": [
    {
     "data": {
      "text/plain": [
       "2.384692685857469"
      ]
     },
     "execution_count": 87,
     "metadata": {},
     "output_type": "execute_result"
    }
   ],
   "source": [
    "alpha = 0.05 \n",
    "F_cr = stats.f.ppf(1-alpha,4,706-8)\n",
    "F_cr"
   ]
  },
  {
   "cell_type": "markdown",
   "id": "5b8be1ec-8db6-4628-82ed-ad6fdbf8e609",
   "metadata": {},
   "source": [
    "$$\n",
    "F_{obs}>F_{cr}\n",
    "$$"
   ]
  },
  {
   "cell_type": "markdown",
   "id": "01e378f5-450f-4e84-aeb6-ccdab782057c",
   "metadata": {},
   "source": [
    "=> Не принимаем гипоезу H0"
   ]
  },
  {
   "cell_type": "markdown",
   "id": "e2b8e63f-7b49-4c56-9cfd-53c90361e854",
   "metadata": {},
   "source": [
    "## Гетероскедастичность"
   ]
  },
  {
   "cell_type": "code",
   "execution_count": 88,
   "id": "d8d4a843-79ff-432d-8b68-a644df618290",
   "metadata": {},
   "outputs": [],
   "source": [
    "df['res2']=model.resid**2\n",
    "df['res']=model.resid"
   ]
  },
  {
   "cell_type": "code",
   "execution_count": 89,
   "id": "34386cfd-5006-4d34-a6a8-fca40a0859e0",
   "metadata": {},
   "outputs": [],
   "source": [
    " sub_model= smf.ols(data=df, formula='res2~age+charges+children').fit()"
   ]
  },
  {
   "cell_type": "markdown",
   "id": "1f528cef-2d69-4673-99a6-afef51f6cbaa",
   "metadata": {},
   "source": [
    "$$\n",
    "H0:\\gamma_{1}=\\gamma_{2}=\\gamma_{3}=0\n",
    "$$\n",
    "$$\n",
    "H1:\\gamma_{1}^2+\\gamma_{2}^2+\\gamma_{3}^2>0\n",
    "$$"
   ]
  },
  {
   "cell_type": "code",
   "execution_count": 90,
   "id": "8ca71266-3f55-40f9-81bf-91572e48e045",
   "metadata": {},
   "outputs": [
    {
     "data": {
      "text/plain": [
       "1024.49"
      ]
     },
     "execution_count": 90,
     "metadata": {},
     "output_type": "execute_result"
    }
   ],
   "source": [
    "St = np.round(len(df)*sub_model.rsquared,2)\n",
    "St"
   ]
  },
  {
   "cell_type": "code",
   "execution_count": 91,
   "id": "88277a27-3935-4bb3-942c-796d1db095b6",
   "metadata": {},
   "outputs": [
    {
     "data": {
      "text/plain": [
       "12.591587243743977"
      ]
     },
     "execution_count": 91,
     "metadata": {},
     "output_type": "execute_result"
    }
   ],
   "source": [
    "Hi2 = stats.chi2.ppf(1-0.05,6)\n",
    "Hi2"
   ]
  },
  {
   "cell_type": "markdown",
   "id": "9b68b485-a3da-487b-8dd5-49d3249d8092",
   "metadata": {},
   "source": [
    "$$\n",
    "Тест указывает на гетероскедастичность\n",
    "\n",
    "$$\n",
    "Отвергаем гипотезу Н0\n"
   ]
  },
  {
   "cell_type": "markdown",
   "id": "26227c32-42dd-44cb-9130-ac856df303f2",
   "metadata": {},
   "source": [
    "## Серийная корреляция"
   ]
  },
  {
   "cell_type": "code",
   "execution_count": 92,
   "id": "9c9895ba-25b6-4cb7-bd25-301f3eeee99f",
   "metadata": {},
   "outputs": [
    {
     "data": {
      "text/plain": [
       "0       10604.629977\n",
       "1       -8295.847110\n",
       "2       -8168.727408\n",
       "3       10416.665755\n",
       "4       -7441.270655\n",
       "            ...     \n",
       "1333    -5381.799553\n",
       "1334    -4920.276904\n",
       "1335    -6886.577573\n",
       "1336    -4791.707023\n",
       "1337    11807.531785\n",
       "Length: 1338, dtype: float64"
      ]
     },
     "execution_count": 92,
     "metadata": {},
     "output_type": "execute_result"
    }
   ],
   "source": [
    "model.resid"
   ]
  },
  {
   "cell_type": "code",
   "execution_count": 93,
   "id": "be19a6a0-2a8f-44ad-b5e2-4b2b0e6eae07",
   "metadata": {
    "tags": []
   },
   "outputs": [],
   "source": [
    "resSq = sum(model.resid**2)"
   ]
  },
  {
   "cell_type": "code",
   "execution_count": 94,
   "id": "dd281148-beb5-411c-b619-d727aee33892",
   "metadata": {},
   "outputs": [
    {
     "data": {
      "text/plain": [
       "360035638066.596"
      ]
     },
     "execution_count": 94,
     "metadata": {},
     "output_type": "execute_result"
    }
   ],
   "source": [
    "sum_resid = 0\n",
    "for i in range(len(model.resid)-1):\n",
    "    sum_resid+=(model.resid[i+1]-model.resid[i])**2\n",
    "sum_resid"
   ]
  },
  {
   "cell_type": "markdown",
   "id": "5ca33f44-7d43-472d-87e2-b52c58ed6237",
   "metadata": {},
   "source": [
    "\n",
    "$$\n",
    "H0:p = 0\n",
    "$$\n",
    "$$\n",
    "H1:p ≠ 0\n",
    "$$"
   ]
  },
  {
   "cell_type": "code",
   "execution_count": 95,
   "id": "df898de0-9cf1-4341-bc37-77ff550472e0",
   "metadata": {},
   "outputs": [
    {
     "data": {
      "text/plain": [
       "2.0413209596529733"
      ]
     },
     "execution_count": 95,
     "metadata": {},
     "output_type": "execute_result"
    }
   ],
   "source": [
    "sum_resid/resSq"
   ]
  },
  {
   "cell_type": "code",
   "execution_count": null,
   "id": "8d9a7e6d-0da4-4f5b-b471-a84a6e734bc6",
   "metadata": {},
   "outputs": [],
   "source": [
    "Гипотеза Н0 отвергается"
   ]
  }
 ],
 "metadata": {
  "kernelspec": {
   "display_name": "Python 3 (ipykernel)",
   "language": "python",
   "name": "python3"
  },
  "language_info": {
   "codemirror_mode": {
    "name": "ipython",
    "version": 3
   },
   "file_extension": ".py",
   "mimetype": "text/x-python",
   "name": "python",
   "nbconvert_exporter": "python",
   "pygments_lexer": "ipython3",
   "version": "3.9.13"
  }
 },
 "nbformat": 4,
 "nbformat_minor": 5
}
